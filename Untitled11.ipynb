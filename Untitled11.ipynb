{
 "cells": [
  {
   "cell_type": "markdown",
   "id": "9e1c68e4-e366-4193-adbd-526f2fae89e3",
   "metadata": {},
   "source": [
    "## Author\n",
    "Büşra Nur Tekin\n"
   ]
  },
  {
   "cell_type": "code",
   "execution_count": null,
   "id": "e387c898-a34c-4e1c-a1da-dfeb858de9e5",
   "metadata": {},
   "outputs": [],
   "source": []
  }
 ],
 "metadata": {
  "kernelspec": {
   "display_name": "Python",
   "language": "python",
   "name": "conda-env-python-py"
  },
  "language_info": {
   "codemirror_mode": {
    "name": "ipython",
    "version": 3
   },
   "file_extension": ".py",
   "mimetype": "text/x-python",
   "name": "python",
   "nbconvert_exporter": "python",
   "pygments_lexer": "ipython3",
   "version": "3.7.12"
  }
 },
 "nbformat": 4,
 "nbformat_minor": 5
}
